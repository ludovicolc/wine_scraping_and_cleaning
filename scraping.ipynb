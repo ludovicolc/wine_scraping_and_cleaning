{
 "cells": [
  {
   "cell_type": "code",
   "execution_count": 1,
   "metadata": {},
   "outputs": [],
   "source": [
    "# Libraries\n",
    "import pandas as pd\n",
    "import psycopg2\n",
    "import requests\n",
    "from bs4 import BeautifulSoup\n",
    "from selenium import webdriver\n",
    "from webdriver_manager.microsoft import EdgeChromiumDriverManager\n",
    "import time"
   ]
  },
  {
   "attachments": {},
   "cell_type": "markdown",
   "metadata": {},
   "source": [
    "# Data extraction"
   ]
  },
  {
   "cell_type": "code",
   "execution_count": 2,
   "metadata": {},
   "outputs": [],
   "source": [
    "# database connection\n",
    "conn = psycopg2.connect(host='', database='', user='', password='')\n",
    "c = conn.cursor()\n",
    "c.execute('create table vini_tan(Annata text, Denominazione text, Vitigni text, Alcol text, Allergeni text, Consumo_ideale text, Temperatura_servizio text, Abbinamenti text, Prezzo text)')"
   ]
  },
  {
   "cell_type": "code",
   "execution_count": 3,
   "metadata": {},
   "outputs": [],
   "source": [
    "# base informations\n",
    "url = 'https://www.tannico.it/bianchi.html?formato%5B0%5D=0.75l&_gl=1*18z4i38*_up*MQ..*_ga*MTA0Nzg0NjE3OC4xNjcwMjQxNzc0*_ga_79MD0HKQ9T*MTY3MDI0MTc3Mi4xLjAuMTY3MDI0MTc3Mi4wLjAuMA..'\n",
    "headers = {'User-Agent': 'Mozilla/5.0 (Windows NT 10.0; Win64; x64) AppleWebKit/537.36 (KHTML, like Gecko) Chrome/107.0.0.0 Safari/537.36 Edg/107.0.1418.62'}"
   ]
  },
  {
   "cell_type": "code",
   "execution_count": 5,
   "metadata": {},
   "outputs": [],
   "source": [
    "# page_source generation\n",
    "def scroll(url):\n",
    "    brow = webdriver.Edge(EdgeChromiumDriverManager().install())\n",
    "    brow.get(url)\n",
    "    time.sleep(10)\n",
    "    \n",
    "    start = 0\n",
    "    for x in range(400):\n",
    "        brow.execute_script(f'window.scrollTo({start}, {start + 800})')\n",
    "        start += 800\n",
    "        time.sleep(1.5)\n",
    "    \n",
    "    return brow"
   ]
  },
  {
   "cell_type": "code",
   "execution_count": 7,
   "metadata": {},
   "outputs": [],
   "source": [
    "# page_source extraction\n",
    "brow = scroll(url=url)\n",
    "soup = BeautifulSoup(brow.page_source, 'html.parser')\n",
    "brow.quit()"
   ]
  },
  {
   "cell_type": "code",
   "execution_count": null,
   "metadata": {},
   "outputs": [],
   "source": [
    "# data extraction\n",
    "vini = soup.find_all('div', {'class': 'productItem__info'})\n",
    "\n",
    "status = 0\n",
    "for v in vini:\n",
    "    \n",
    "    # nested links\n",
    "    link = v.find('a').get('href')\n",
    "    r = requests.Session().get(link, headers=headers)\n",
    "    v_soup = BeautifulSoup(r.content, 'html.parser')\n",
    "\n",
    "    # data\n",
    "    prezzo = v_soup.find('span', {'class': 'new-price'}).text if v_soup.find('span', {'class': 'new-price'}) != None else ''\n",
    "    annata = v_soup.find('strong', string='Annata: ').next_sibling.text.strip() if v_soup.find('strong', string='Annata: ') != None else ''\n",
    "    denominazione = v_soup.find('strong', string='Denominazione: ').next_sibling.text.strip() if v_soup.find('strong', string='Denominazione: ') != None else ''\n",
    "    vitigni = v_soup.find('strong', string='Vitigni: ').next_sibling.text.strip() if v_soup.find('strong', string='Vitigni: ') != None else ''\n",
    "    alcol = v_soup.find('strong', string='Alcol: ').next_sibling.text.strip() if v_soup.find('strong', string='Alcol: ') != None else ''\n",
    "    allergeni = v_soup.find('strong', string='Allergeni: ').next_sibling.text.strip() if v_soup.find('strong', string='Allergeni: ') != None else ''\n",
    "    consumo = v_soup.find('strong', string='Consumo ideale: ').next_sibling.text.strip() if v_soup.find('strong', string='Consumo ideale: ') != None else ''\n",
    "    temperatura = v_soup.find('strong', string='Temperatura di servizio: ').next_sibling.text.strip() if v_soup.find('strong', string='Temperatura di servizio: ') != None else ''\n",
    "    abbinamenti = v_soup.find('strong', string='Abbinamenti: ').next_sibling.text.strip() if v_soup.find('strong', string='Abbinamenti: ') != None else ''\n",
    "    \n",
    "    # add collected data to existing table\n",
    "    c.execute('insert into vini_tan(Annata, Denominazione, Vitigni, Alcol, Allergeni, Consumo_ideale, Temperatura_servizio, Abbinamenti, Prezzo) values(%s, %s, %s, %s, %s, %s, %s, %s, %s)',\n",
    "              (annata, denominazione, vitigni, alcol, allergeni, consumo, temperatura, abbinamenti, prezzo))\n",
    "    \n",
    "    status += 1\n",
    "    print(status)\n",
    "    \n",
    "    time.sleep(0.1)\n",
    "\n",
    "# send to database\n",
    "conn.commit()"
   ]
  },
  {
   "attachments": {},
   "cell_type": "markdown",
   "metadata": {},
   "source": [
    "# Raw data"
   ]
  },
  {
   "cell_type": "code",
   "execution_count": 11,
   "metadata": {},
   "outputs": [
    {
     "name": "stderr",
     "output_type": "stream",
     "text": [
      "c:\\Users\\Ludo1\\AppData\\Local\\Programs\\Python\\Python310\\lib\\site-packages\\pandas\\io\\sql.py:762: UserWarning: pandas only support SQLAlchemy connectable(engine/connection) ordatabase string URI or sqlite3 DBAPI2 connectionother DBAPI2 objects are not tested, please consider using SQLAlchemy\n",
      "  warnings.warn(\n"
     ]
    },
    {
     "data": {
      "text/html": [
       "<div>\n",
       "<style scoped>\n",
       "    .dataframe tbody tr th:only-of-type {\n",
       "        vertical-align: middle;\n",
       "    }\n",
       "\n",
       "    .dataframe tbody tr th {\n",
       "        vertical-align: top;\n",
       "    }\n",
       "\n",
       "    .dataframe thead th {\n",
       "        text-align: right;\n",
       "    }\n",
       "</style>\n",
       "<table border=\"1\" class=\"dataframe\">\n",
       "  <thead>\n",
       "    <tr style=\"text-align: right;\">\n",
       "      <th></th>\n",
       "      <th>annata</th>\n",
       "      <th>denominazione</th>\n",
       "      <th>vitigni</th>\n",
       "      <th>alcol</th>\n",
       "      <th>allergeni</th>\n",
       "      <th>consumo_ideale</th>\n",
       "      <th>temperatura_servizio</th>\n",
       "      <th>abbinamenti</th>\n",
       "      <th>prezzo</th>\n",
       "    </tr>\n",
       "  </thead>\n",
       "  <tbody>\n",
       "    <tr>\n",
       "      <th>580</th>\n",
       "      <td>2021</td>\n",
       "      <td>Alto Adige DOC</td>\n",
       "      <td>gewürztraminer 100%</td>\n",
       "      <td>13.5%</td>\n",
       "      <td>Solfiti</td>\n",
       "      <td>2022/2024</td>\n",
       "      <td>8/10 °C</td>\n",
       "      <td>Antipasti di pesce, Piatti vegetariani, Second...</td>\n",
       "      <td>12,50 €</td>\n",
       "    </tr>\n",
       "    <tr>\n",
       "      <th>1164</th>\n",
       "      <td>2019</td>\n",
       "      <td>Vigneti delle Dolomiti IGT</td>\n",
       "      <td>chardonnay, riesling renano, sauvignon, kerner...</td>\n",
       "      <td>13.5%</td>\n",
       "      <td>Solfiti</td>\n",
       "      <td>2021/2027</td>\n",
       "      <td>10/12 °C</td>\n",
       "      <td>Primi di terra</td>\n",
       "      <td>18,50 €</td>\n",
       "    </tr>\n",
       "    <tr>\n",
       "      <th>319</th>\n",
       "      <td>2021</td>\n",
       "      <td>Friuli Colli Orientali DOC</td>\n",
       "      <td>friulano 100%</td>\n",
       "      <td>13%</td>\n",
       "      <td>Solfiti</td>\n",
       "      <td>2022/2024</td>\n",
       "      <td>8/10 °C</td>\n",
       "      <td>Salumi, Zuppe</td>\n",
       "      <td>10,90 €</td>\n",
       "    </tr>\n",
       "  </tbody>\n",
       "</table>\n",
       "</div>"
      ],
      "text/plain": [
       "     annata               denominazione  \\\n",
       "580    2021              Alto Adige DOC   \n",
       "1164   2019  Vigneti delle Dolomiti IGT   \n",
       "319    2021  Friuli Colli Orientali DOC   \n",
       "\n",
       "                                                vitigni  alcol allergeni  \\\n",
       "580                                 gewürztraminer 100%  13.5%   Solfiti   \n",
       "1164  chardonnay, riesling renano, sauvignon, kerner...  13.5%   Solfiti   \n",
       "319                                       friulano 100%    13%   Solfiti   \n",
       "\n",
       "     consumo_ideale temperatura_servizio  \\\n",
       "580       2022/2024              8/10 °C   \n",
       "1164      2021/2027             10/12 °C   \n",
       "319       2022/2024              8/10 °C   \n",
       "\n",
       "                                            abbinamenti   prezzo  \n",
       "580   Antipasti di pesce, Piatti vegetariani, Second...  12,50 €  \n",
       "1164                                     Primi di terra  18,50 €  \n",
       "319                                       Salumi, Zuppe  10,90 €  "
      ]
     },
     "execution_count": 11,
     "metadata": {},
     "output_type": "execute_result"
    }
   ],
   "source": [
    "df_vini_tan = pd.read_sql_query('select * from vini_tan', conn)\n",
    "df_vini_tan.sample(3)"
   ]
  },
  {
   "attachments": {},
   "cell_type": "markdown",
   "metadata": {},
   "source": [
    "# Cleaned data"
   ]
  },
  {
   "cell_type": "code",
   "execution_count": 13,
   "metadata": {},
   "outputs": [
    {
     "name": "stderr",
     "output_type": "stream",
     "text": [
      "c:\\Users\\Ludo1\\AppData\\Local\\Programs\\Python\\Python310\\lib\\site-packages\\pandas\\io\\sql.py:762: UserWarning: pandas only support SQLAlchemy connectable(engine/connection) ordatabase string URI or sqlite3 DBAPI2 connectionother DBAPI2 objects are not tested, please consider using SQLAlchemy\n",
      "  warnings.warn(\n"
     ]
    },
    {
     "data": {
      "text/html": [
       "<div>\n",
       "<style scoped>\n",
       "    .dataframe tbody tr th:only-of-type {\n",
       "        vertical-align: middle;\n",
       "    }\n",
       "\n",
       "    .dataframe tbody tr th {\n",
       "        vertical-align: top;\n",
       "    }\n",
       "\n",
       "    .dataframe thead th {\n",
       "        text-align: right;\n",
       "    }\n",
       "</style>\n",
       "<table border=\"1\" class=\"dataframe\">\n",
       "  <thead>\n",
       "    <tr style=\"text-align: right;\">\n",
       "      <th></th>\n",
       "      <th>annata</th>\n",
       "      <th>denominazione</th>\n",
       "      <th>vitigni</th>\n",
       "      <th>alcol</th>\n",
       "      <th>consumo_ideale</th>\n",
       "      <th>temperatura_servizio</th>\n",
       "      <th>abbinamenti</th>\n",
       "      <th>prezzo</th>\n",
       "    </tr>\n",
       "  </thead>\n",
       "  <tbody>\n",
       "    <tr>\n",
       "      <th>103</th>\n",
       "      <td>2021.0</td>\n",
       "      <td>igt</td>\n",
       "      <td>altri</td>\n",
       "      <td>12.5</td>\n",
       "      <td>2022/2024</td>\n",
       "      <td>13.0</td>\n",
       "      <td>antipasti</td>\n",
       "      <td>12.6</td>\n",
       "    </tr>\n",
       "    <tr>\n",
       "      <th>560</th>\n",
       "      <td>2019.0</td>\n",
       "      <td>doc</td>\n",
       "      <td>pinot</td>\n",
       "      <td>13.0</td>\n",
       "      <td>2021/2024</td>\n",
       "      <td>16.0</td>\n",
       "      <td>primi</td>\n",
       "      <td>18.2</td>\n",
       "    </tr>\n",
       "    <tr>\n",
       "      <th>841</th>\n",
       "      <td>2021.0</td>\n",
       "      <td>doc</td>\n",
       "      <td>pinot</td>\n",
       "      <td>13.5</td>\n",
       "      <td>2023/2025</td>\n",
       "      <td>13.0</td>\n",
       "      <td>altri</td>\n",
       "      <td>13.9</td>\n",
       "    </tr>\n",
       "  </tbody>\n",
       "</table>\n",
       "</div>"
      ],
      "text/plain": [
       "     annata denominazione vitigni  alcol consumo_ideale  temperatura_servizio  \\\n",
       "103  2021.0           igt   altri   12.5      2022/2024                  13.0   \n",
       "560  2019.0           doc   pinot   13.0      2021/2024                  16.0   \n",
       "841  2021.0           doc   pinot   13.5      2023/2025                  13.0   \n",
       "\n",
       "    abbinamenti  prezzo  \n",
       "103   antipasti    12.6  \n",
       "560       primi    18.2  \n",
       "841       altri    13.9  "
      ]
     },
     "execution_count": 13,
     "metadata": {},
     "output_type": "execute_result"
    }
   ],
   "source": [
    "df_bianchi = pd.read_sql_query('select * from bianchi', conn)\n",
    "df_bianchi.sample(3)"
   ]
  },
  {
   "cell_type": "code",
   "execution_count": 14,
   "metadata": {},
   "outputs": [],
   "source": [
    "# close connection with database\n",
    "conn.close()"
   ]
  }
 ],
 "metadata": {
  "kernelspec": {
   "display_name": "Python 3.10.7 64-bit",
   "language": "python",
   "name": "python3"
  },
  "language_info": {
   "codemirror_mode": {
    "name": "ipython",
    "version": 3
   },
   "file_extension": ".py",
   "mimetype": "text/x-python",
   "name": "python",
   "nbconvert_exporter": "python",
   "pygments_lexer": "ipython3",
   "version": "3.10.7 (tags/v3.10.7:6cc6b13, Sep  5 2022, 14:08:36) [MSC v.1933 64 bit (AMD64)]"
  },
  "orig_nbformat": 4,
  "vscode": {
   "interpreter": {
    "hash": "e5da1562388db7144884801324541e47d1d46659ed2943533e6859e6cf55c04f"
   }
  }
 },
 "nbformat": 4,
 "nbformat_minor": 2
}
